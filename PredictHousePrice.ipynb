{
  "nbformat": 4,
  "nbformat_minor": 0,
  "metadata": {
    "colab": {
      "provenance": [],
      "authorship_tag": "ABX9TyMFfQMawXdMtyCZu8asFLgb",
      "include_colab_link": true
    },
    "kernelspec": {
      "name": "python3",
      "display_name": "Python 3"
    },
    "language_info": {
      "name": "python"
    }
  },
  "cells": [
    {
      "cell_type": "markdown",
      "metadata": {
        "id": "view-in-github",
        "colab_type": "text"
      },
      "source": [
        "<a href=\"https://colab.research.google.com/github/ae200/Academical-portfolio/blob/master/PredictHousePrice.ipynb\" target=\"_parent\"><img src=\"https://colab.research.google.com/assets/colab-badge.svg\" alt=\"Open In Colab\"/></a>"
      ]
    },
    {
      "cell_type": "code",
      "execution_count": 22,
      "metadata": {
        "id": "il4Tk1x-GRjR"
      },
      "outputs": [],
      "source": [
        "import tensorflow as tf\n",
        "import numpy as np"
      ]
    },
    {
      "cell_type": "code",
      "source": [
        "# Graded Function: Creating Training data\n",
        "\n",
        "def creating_training_data():\n",
        "  n_bedrooms = np.array([1.0, 2.0, 3.0, 4.0, 5.0, 6.0], dtype=float)\n",
        "  price_in_hundreds_of_thousands = np.array([100.0, 150.0, 200.0, 250.0, 300.0, 350.0], dtype=float)\n",
        "\n",
        "  return n_bedrooms, price_in_hundreds_of_thousands"
      ],
      "metadata": {
        "id": "zJprJTLmgRZr"
      },
      "execution_count": 23,
      "outputs": []
    },
    {
      "cell_type": "code",
      "source": [
        "features, targets = creating_training_data()\n",
        "\n",
        "print(f\"Features have shape: {features.shape}\")\n",
        "print(f\"Targets have shape: {targets.shape}\")"
      ],
      "metadata": {
        "colab": {
          "base_uri": "https://localhost:8080/"
        },
        "id": "Jph8k-Bdg2ns",
        "outputId": "80c1982f-3511-4e8e-db1b-e2ce448fa416"
      },
      "execution_count": 25,
      "outputs": [
        {
          "output_type": "stream",
          "name": "stdout",
          "text": [
            "Features have shape: (6,)\n",
            "Targets have shape: (6,)\n"
          ]
        }
      ]
    },
    {
      "cell_type": "code",
      "source": [
        "# Graded function: define_and_compile_model\n",
        "\n",
        "def define_and_compile_model():\n",
        "  # define your model\n",
        "  model = tf.keras.Sequential([\n",
        "      # Define the Input with the appropriate shape\n",
        "      tf.keras.Input(shape=(1,)),\n",
        "      # Define the Dense layer\n",
        "      tf.keras.layers.Dense(units=1)\n",
        "      ])\n",
        "  model.compile(optimizer='sgd', loss='mean_squared_error')"
      ],
      "metadata": {
        "id": "GnGGvkQvha-8"
      },
      "execution_count": 27,
      "outputs": []
    },
    {
      "cell_type": "code",
      "source": [
        "untrained_model = define_and_compile_model()\n",
        "\n",
        "untrained_model.summary()"
      ],
      "metadata": {
        "colab": {
          "base_uri": "https://localhost:8080/",
          "height": 176
        },
        "id": "mY_aETBjiqyr",
        "outputId": "3c7ee4df-aab7-4e3b-8378-542c83932ce2"
      },
      "execution_count": 28,
      "outputs": [
        {
          "output_type": "error",
          "ename": "AttributeError",
          "evalue": "'NoneType' object has no attribute 'summary'",
          "traceback": [
            "\u001b[0;31m---------------------------------------------------------------------------\u001b[0m",
            "\u001b[0;31mAttributeError\u001b[0m                            Traceback (most recent call last)",
            "\u001b[0;32m<ipython-input-28-893fb80ea933>\u001b[0m in \u001b[0;36m<cell line: 0>\u001b[0;34m()\u001b[0m\n\u001b[1;32m      1\u001b[0m \u001b[0muntrained_model\u001b[0m \u001b[0;34m=\u001b[0m \u001b[0mdefine_and_compile_model\u001b[0m\u001b[0;34m(\u001b[0m\u001b[0;34m)\u001b[0m\u001b[0;34m\u001b[0m\u001b[0;34m\u001b[0m\u001b[0m\n\u001b[1;32m      2\u001b[0m \u001b[0;34m\u001b[0m\u001b[0m\n\u001b[0;32m----> 3\u001b[0;31m \u001b[0muntrained_model\u001b[0m\u001b[0;34m.\u001b[0m\u001b[0msummary\u001b[0m\u001b[0;34m(\u001b[0m\u001b[0;34m)\u001b[0m\u001b[0;34m\u001b[0m\u001b[0;34m\u001b[0m\u001b[0m\n\u001b[0m",
            "\u001b[0;31mAttributeError\u001b[0m: 'NoneType' object has no attribute 'summary'"
          ]
        }
      ]
    },
    {
      "cell_type": "code",
      "source": [
        "# Graded function train a model\n",
        "\n",
        "def train_model():\n",
        "\n",
        "  n_bedrooms, price_in_hundreds_of_thousands = creating_training_data()\n",
        "\n",
        "  model = define_and_compile_model()\n",
        "\n",
        "  model.fit(n_bedrooms, price_in_hundreds_of_thousands, epochs=500)\n",
        "\n",
        "  return model\n",
        "\n"
      ],
      "metadata": {
        "id": "VGslg4dLifrj"
      },
      "execution_count": 29,
      "outputs": []
    },
    {
      "cell_type": "code",
      "source": [
        "# Get your trained model\n",
        "trained_model = train_model()"
      ],
      "metadata": {
        "colab": {
          "base_uri": "https://localhost:8080/",
          "height": 159
        },
        "id": "p4TcOH6VnLWK",
        "outputId": "b7bf2d70-73cb-4954-9ca2-a9a108fbb53d"
      },
      "execution_count": 1,
      "outputs": [
        {
          "output_type": "error",
          "ename": "NameError",
          "evalue": "name 'train_model' is not defined",
          "traceback": [
            "\u001b[0;31m---------------------------------------------------------------------------\u001b[0m",
            "\u001b[0;31mNameError\u001b[0m                                 Traceback (most recent call last)",
            "\u001b[0;32m<ipython-input-1-8305883350d8>\u001b[0m in \u001b[0;36m<cell line: 0>\u001b[0;34m()\u001b[0m\n\u001b[1;32m      1\u001b[0m \u001b[0;31m# Get your trained model\u001b[0m\u001b[0;34m\u001b[0m\u001b[0;34m\u001b[0m\u001b[0m\n\u001b[0;32m----> 2\u001b[0;31m \u001b[0mtrained_model\u001b[0m \u001b[0;34m=\u001b[0m \u001b[0mtrain_model\u001b[0m\u001b[0;34m(\u001b[0m\u001b[0;34m)\u001b[0m\u001b[0;34m\u001b[0m\u001b[0;34m\u001b[0m\u001b[0m\n\u001b[0m",
            "\u001b[0;31mNameError\u001b[0m: name 'train_model' is not defined"
          ]
        }
      ]
    }
  ]
}