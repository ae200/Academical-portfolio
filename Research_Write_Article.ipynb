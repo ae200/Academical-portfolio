{
  "nbformat": 4,
  "nbformat_minor": 0,
  "metadata": {
    "colab": {
      "provenance": [],
      "authorship_tag": "ABX9TyNNdNpGuHzY5D9LPx3yMVJh",
      "include_colab_link": true
    },
    "kernelspec": {
      "name": "python3",
      "display_name": "Python 3"
    },
    "language_info": {
      "name": "python"
    }
  },
  "cells": [
    {
      "cell_type": "markdown",
      "metadata": {
        "id": "view-in-github",
        "colab_type": "text"
      },
      "source": [
        "<a href=\"https://colab.research.google.com/github/ae200/Academical-portfolio/blob/master/Research_Write_Article.ipynb\" target=\"_parent\"><img src=\"https://colab.research.google.com/assets/colab-badge.svg\" alt=\"Open In Colab\"/></a>"
      ]
    },
    {
      "cell_type": "code",
      "execution_count": 1,
      "metadata": {
        "id": "IdaBOxpj8ZO7"
      },
      "outputs": [],
      "source": [
        "import warnings\n",
        "warnings.filterwarnings('ignore')"
      ]
    },
    {
      "cell_type": "code",
      "source": [
        "from crewai import Agent, Task, Crew"
      ],
      "metadata": {
        "id": "mQyip5jC8s8V"
      },
      "execution_count": 1,
      "outputs": []
    },
    {
      "cell_type": "code",
      "source": [
        "#import os\n",
        "#from utils import get_openai_api_key\n",
        "\n",
        "#openai_api_key = get_openai_api_key()\n",
        "#os.environ['OPENAI_MODEL_NAME'] = 'gpt-3.5-turbo'\n",
        "\n",
        "import os\n",
        "from google.colab import userdata\n",
        "\n",
        "openai_api_key = userdata.get('OPENAI_API_KEY')\n",
        "os.environ['OPENAI_MODEL_NAME'] = 'gpt-3.5-turbo'"
      ],
      "metadata": {
        "id": "-WSywN6q-m09"
      },
      "execution_count": 12,
      "outputs": []
    },
    {
      "cell_type": "code",
      "source": [
        "# For this project which is  Create Agents to Research and Write an Article\n",
        "# we are going to build 3 agents\n",
        "# Planner\n",
        "# Writer\n",
        "# Editor"
      ],
      "metadata": {
        "id": "OpFv-B8k9xB0"
      },
      "execution_count": 13,
      "outputs": []
    },
    {
      "cell_type": "markdown",
      "source": [],
      "metadata": {
        "id": "U5BFZ-4XEqR8"
      }
    },
    {
      "cell_type": "code",
      "source": [],
      "metadata": {
        "id": "G8OS11HJErAP"
      },
      "execution_count": null,
      "outputs": []
    },
    {
      "cell_type": "code",
      "metadata": {
        "colab": {
          "base_uri": "https://localhost:8080/"
        },
        "id": "4496a223",
        "outputId": "844354fa-0ecd-4501-b218-89e771ccddaf"
      },
      "source": [
        "import os\n",
        "from google.colab import userdata\n",
        "\n",
        "# Access the secret named 'OPENAI_API_KEY'\n",
        "openai_api_key = userdata.get('OPENAI_API_KEY')\n",
        "\n",
        "# You can then use this key in your code, for example, setting an environment variable\n",
        "os.environ['OPENAI_API_KEY'] = openai_api_key\n",
        "\n",
        "# Now you can use os.environ.get('OPENAI_API_KEY') or the openai_api_key variable\n",
        "# when initializing the OpenAI client or making API calls.\n",
        "print(\"OpenAI API key successfully loaded and set as environment variable.\")\n",
        "# Note: Avoid printing the actual key value in your output for security."
      ],
      "execution_count": 14,
      "outputs": [
        {
          "output_type": "stream",
          "name": "stdout",
          "text": [
            "OpenAI API key successfully loaded and set as environment variable.\n"
          ]
        }
      ]
    }
  ]
}